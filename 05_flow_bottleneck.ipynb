{
 "cells": [
  {
   "cell_type": "code",
   "execution_count": null,
   "metadata": {},
   "outputs": [],
   "source": [
    "import pathlib\n",
    "import matplotlib.pyplot as plt\n",
    "import numpy as np\n",
    "import pedpy\n",
    "\n",
    "# from shapely import GeometryCollection, Polygon\n",
    "from pathlib import Path\n",
    "import glob\n",
    "import os\n",
    "import jupedsim as jps\n",
    "from shapely.geometry import Polygon  # , LineString"
   ]
  },
  {
   "cell_type": "markdown",
   "metadata": {},
   "source": [
    "Define Room and Corridor Geometry\n"
   ]
  },
  {
   "cell_type": "code",
   "execution_count": null,
   "metadata": {},
   "outputs": [],
   "source": [
    "room1 = Polygon([(0, 0), (10, 0), (10, 10), (0, 10)])  # Room 1 (10m x 10m)\n",
    "room2 = Polygon([(15, 0), (25, 0), (25, 10), (15, 10)])  # Room 2 (10m x 10m)\n",
    "corridor_widths = [1.0, 1.2, 1.4]  # Corridor widths to test"
   ]
  },
  {
   "cell_type": "markdown",
   "metadata": {},
   "source": [
    "Simulation Parameters\n"
   ]
  },
  {
   "cell_type": "code",
   "execution_count": null,
   "metadata": {},
   "outputs": [],
   "source": [
    "# Clean up a bit!\n",
    "sqlite_files = glob.glob(\"*.sqlite\")\n",
    "for sqlite_file in sqlite_files:\n",
    "    # remove all the files\n",
    "    print(f\"Removing {sqlite_file}\")\n",
    "    os.remove(sqlite_file)"
   ]
  },
  {
   "cell_type": "markdown",
   "metadata": {},
   "source": [
    "## Measeaurement method for flow"
   ]
  },
  {
   "cell_type": "code",
   "execution_count": null,
   "metadata": {},
   "outputs": [],
   "source": [
    "def calculate_flow_rate(trajfile, measurement_line):\n",
    "    traj = pedpy.load_trajectory_from_jupedsim_sqlite(trajfile)\n",
    "    nt, _ = pedpy.compute_n_t(\n",
    "        traj_data=traj,\n",
    "        measurement_line=measurement_line,\n",
    "    )\n",
    "    num_agents_crossed = nt[\"cumulative_pedestrians\"].max()\n",
    "    first = nt[nt[\"cumulative_pedestrians\"] != 0][\"time\"].iloc[0]\n",
    "    last = nt[\"time\"].iloc[-1]\n",
    "    flow = num_agents_crossed / (last - first)\n",
    "    return flow"
   ]
  },
  {
   "cell_type": "markdown",
   "metadata": {},
   "source": [
    "## Simulation loop for different seed values"
   ]
  },
  {
   "cell_type": "code",
   "execution_count": null,
   "metadata": {},
   "outputs": [],
   "source": [
    "seeds = np.random.randint(0, 1000, 2)\n",
    "num_agents = 60  # Number of agents to simulate\n",
    "\n",
    "flow_rates_all = {width: [] for width in corridor_widths}\n",
    "measurement_line = pedpy.MeasurementLine([(10, 0), (10, 10)])\n",
    "trajectory_file_base = \"bottleneck_simulation\"\n",
    "\n",
    "for seed in seeds:\n",
    "    for width in corridor_widths:\n",
    "        # Define corridor with variable width\n",
    "        corridor = Polygon(\n",
    "            [\n",
    "                (10, 5 - width / 2),\n",
    "                (15, 5 - width / 2),\n",
    "                (15, 5 + width / 2),\n",
    "                (10, 5 + width / 2),\n",
    "            ]\n",
    "        )\n",
    "        area = room1.union(room2).union(\n",
    "            corridor\n",
    "        )  # Combine the room and corridor geometries\n",
    "        trajfile = pathlib.Path(f\"{trajectory_file_base}_{width}_{seed}.sqlite\")\n",
    "        # Define Exit Area (at the end of the corridor)\n",
    "        exit_area = Polygon(\n",
    "            [(24, 4.5), (25, 4.5), (25, 5.5), (24, 5.5)]\n",
    "        )  # Place exit within walkable area\n",
    "        exit_boundary = exit_area.exterior.coords\n",
    "        # Initialize simulation\n",
    "        simulation = jps.Simulation(\n",
    "            model=jps.CollisionFreeSpeedModel(\n",
    "                # strength_geometry_repulsion=1\n",
    "                #strength_neighbor_repulsion=2,\n",
    "                #range_neighbor_repulsion=0.5,\n",
    "            ),\n",
    "            geometry=area,\n",
    "            trajectory_writer=jps.SqliteTrajectoryWriter(\n",
    "                output_file=trajfile\n",
    "            ),\n",
    "        )\n",
    "\n",
    "        # Add Exit Area to the simulation (pass the exit boundary as a LineString)\n",
    "        exit_id = simulation.add_exit_stage(exit_boundary)\n",
    "        journey = jps.JourneyDescription([exit_id])\n",
    "        journey_id = simulation.add_journey(journey)\n",
    "\n",
    "        # Define Starting Area (all agents start in Room 1)\n",
    "        # this is constant and independent of the corridor width\n",
    "        spawning_area = Polygon(\n",
    "            [(0, 0), (5, 0), (5, 10), (0, 10)]\n",
    "        )  # Use entire room for spawning\n",
    "        positions = jps.distributions.distribute_by_number(\n",
    "            polygon=spawning_area,\n",
    "            number_of_agents=num_agents,\n",
    "            distance_to_agents=0.3,  # Increase distance to avoid overlap\n",
    "            distance_to_polygon=0.15,  # Increase distance to polygon boundary\n",
    "            seed=seed,\n",
    "        )\n",
    "\n",
    "        # Add Agents to the Simulation\n",
    "        for position in positions:\n",
    "            agent_params = jps.CollisionFreeSpeedModelAgentParameters(\n",
    "                journey_id=journey_id,  # Journey where agents go\n",
    "                stage_id=exit_id,  # The exit stage\n",
    "                position=position,  # Starting position of the agent\n",
    "                radius=0.15,  # The agent's radius\n",
    "            )\n",
    "            simulation.add_agent(agent_params)  # Adding agent parameters correctly\n",
    "\n",
    "        # Run Simulation until all agents have crossed the exit\n",
    "        while simulation.agent_count() > 0 and simulation.iteration_count() < 100000:\n",
    "            simulation.iterate()\n",
    "\n",
    "        print(f\"Seed = {seed}, Corridor width = {width} m, Simulation time: {simulation.elapsed_time(): .2f} s\")\n",
    "        flow = calculate_flow_rate(trajfile, measurement_line)\n",
    "        flow_rates_all[width].append(flow)\n"
   ]
  },
  {
   "cell_type": "markdown",
   "metadata": {},
   "source": [
    "## Analysis - Flow\n"
   ]
  },
  {
   "cell_type": "code",
   "execution_count": null,
   "metadata": {},
   "outputs": [],
   "source": [
    "mean_flow_rates = []\n",
    "std_flow_rates = []\n",
    "for width in corridor_widths:\n",
    "    flows = flow_rates_all[width]\n",
    "    mean_flow_rates.append(np.mean(flows))\n",
    "    std_flow_rates.append(np.std(flows))\n",
    "\n",
    "# Plot results with error bars\n",
    "plt.figure(figsize=(8, 6))\n",
    "plt.errorbar(\n",
    "    corridor_widths,\n",
    "    mean_flow_rates,\n",
    "    yerr=std_flow_rates,\n",
    "    fmt=\"o-\",\n",
    "    capsize=5,\n",
    "    label=\"Simulated Flow Rate\",\n",
    ")\n",
    "\n",
    "plt.xlabel(\"Corridor Width (m)\")\n",
    "plt.ylabel(\"Flow Rate (persons/s)\")\n",
    "plt.title(\"Flow Rate vs Corridor Width with Error Bars\")\n",
    "plt.grid(True, alpha=0.3)\n",
    "plt.legend()\n",
    "plt.show()\n",
    "\n",
    "print(\"Mean Flow Rates:\", mean_flow_rates)\n",
    "print(\"Standard Deviations:\", std_flow_rates)"
   ]
  }
 ],
 "metadata": {
  "kernelspec": {
   "display_name": ".venv",
   "language": "python",
   "name": "python3"
  },
  "language_info": {
   "codemirror_mode": {
    "name": "ipython",
    "version": 3
   },
   "file_extension": ".py",
   "mimetype": "text/x-python",
   "name": "python",
   "nbconvert_exporter": "python",
   "pygments_lexer": "ipython3",
   "version": "3.12.8"
  }
 },
 "nbformat": 4,
 "nbformat_minor": 2
}
