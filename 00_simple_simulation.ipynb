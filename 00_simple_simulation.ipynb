{
 "cells": [
  {
   "cell_type": "code",
   "execution_count": null,
   "metadata": {},
   "outputs": [],
   "source": [
    "import jupedsim as jps\n",
    "from shapely import Polygon"
   ]
  },
  {
   "cell_type": "code",
   "execution_count": null,
   "metadata": {},
   "outputs": [],
   "source": [
    "geometry = Polygon([[0, 0], [10, 0], [10, 10], [0, 10]])\n",
    "start = Polygon([[1, 1], [4, 1], [4, 9], [0, 9]])\n",
    "end = Polygon([[8, 0], [9, 0], [9, 10], [8, 10]])\n",
    "trajectory_file = \"trajectories.sqlite\"\n",
    "simulation = jps.Simulation(\n",
    "    model=jps.SocialForceModel(),\n",
    "    geometry=geometry,\n",
    "    trajectory_writer=jps.SqliteTrajectoryWriter(output_file=trajectory_file),\n",
    ")"
   ]
  },
  {
   "cell_type": "code",
   "execution_count": null,
   "metadata": {},
   "outputs": [],
   "source": [
    "exit_id = simulation.add_exit_stage(end)\n",
    "journey = jps.JourneyDescription([exit_id])\n",
    "journey_id = simulation.add_journey(journey)\n",
    "simulation.add_agent(\n",
    "    jps.SocialForceModelAgentParameters(\n",
    "        position=[1, 5], journey_id=journey_id, stage_id=exit_id\n",
    "    )\n",
    ")"
   ]
  },
  {
   "cell_type": "code",
   "execution_count": null,
   "metadata": {},
   "outputs": [],
   "source": [
    "while simulation.agent_count():\n",
    "    simulation.iterate()\n",
    "\n",
    "print(f\"Time {simulation.elapsed_time()}s\")    "
   ]
  },
  {
   "cell_type": "code",
   "execution_count": null,
   "metadata": {},
   "outputs": [],
   "source": [
    "from jupedsim.internal.notebook_utils import animate, read_sqlite_file\n",
    "\n",
    "geo, trajectories = read_sqlite_file(trajectory_file)\n",
    "animate(geo, trajectories)"
   ]
  }
 ],
 "metadata": {
  "kernelspec": {
   "display_name": ".venv",
   "language": "python",
   "name": "python3"
  },
  "language_info": {
   "codemirror_mode": {
    "name": "ipython",
    "version": 3
   },
   "file_extension": ".py",
   "mimetype": "text/x-python",
   "name": "python",
   "nbconvert_exporter": "python",
   "pygments_lexer": "ipython3",
   "version": "3.12.8"
  }
 },
 "nbformat": 4,
 "nbformat_minor": 2
}
